{
 "cells": [
  {
   "cell_type": "code",
   "execution_count": 1,
   "id": "dff89faf",
   "metadata": {},
   "outputs": [],
   "source": [
    "import database_connect as connection"
   ]
  },
  {
   "cell_type": "code",
   "execution_count": 8,
   "id": "eae93860",
   "metadata": {},
   "outputs": [],
   "source": [
    "zip_path = '<</PATH/TO/>>secure-connect-plagiarism-check.zip' #should be a string\n",
    "client_id = 'vZRTdzmnZaxTZqNEpRKaOZEE' #should be a string\n",
    "client_secret = 'WCczL2WozGYgKIZ0ZpprFu6Tq5lidrgyZ9tLJL9kCDYwQ6D+cD8Zz--KdnGTLLv,P8QJu0y7z-Y1EKy.EaTZOd_ju-onwiXWnMyS0fOoFtaf7kwrHtIsI96l6B2HZMtA' #should be a string\n",
    "keyspace = 'assignment' #should be a string #note: keyspace should be created manually in datastax cassandra. Keyspaces are not allowed to create from backend.\n",
    "table_name = 'file_information' \n",
    "\n",
    "cassandra = connection.cassandra_operations('<</PATH/TO/>>secure-connect-plagiarism-check.zip',\n",
    "                                            'vZRTdzmnZaxTZqNEpRKaOZEE',\n",
    "                                            'WCczL2WozGYgKIZ0ZpprFu6Tq5lidrgyZ9tLJL9kCDYwQ6D+cD8Zz--KdnGTLLv,P8QJu0y7z-Y1EKy.EaTZOd_ju-onwiXWnMyS0fOoFtaf7kwrHtIsI96l6B2HZMtA',\n",
    "                                            'assignment',\n",
    "                                            'file_information')"
   ]
  },
  {
   "cell_type": "code",
   "execution_count": 9,
   "id": "927c4309",
   "metadata": {},
   "outputs": [],
   "source": [
    "import pandas\n",
    "import cassandra\n",
    "import pyspark\n",
    "import re\n",
    "import os\n",
    "import random\n",
    "from random import randint, randrange\n",
    "import matplotlib.pyplot as plt\n",
    "from IPython.display import display, Markdown\n",
    "from pyspark.sql import SparkSession\n",
    "from pyspark.ml.linalg import Vectors\n",
    "from pyspark.ml.feature import VectorAssembler\n",
    "from pyspark.ml.feature import StringIndexer\n",
    "from pyspark.ml.clustering import KMeans"
   ]
  },
  {
   "cell_type": "code",
   "execution_count": 10,
   "id": "cf8c2ba2",
   "metadata": {},
   "outputs": [
    {
     "data": {
      "text/plain": [
       "<function database_connect.__cassandra_utils.cassandra_crud.cassandra_operations.read_data(self, table_name=None)>"
      ]
     },
     "execution_count": 10,
     "metadata": {},
     "output_type": "execute_result"
    }
   ],
   "source": [
    "read_file = connection.cassandra_operations.read_data\n",
    "read_file"
   ]
  },
  {
   "cell_type": "code",
   "execution_count": 12,
   "id": "54c6f6bd",
   "metadata": {},
   "outputs": [
    {
     "name": "stdout",
     "output_type": "stream",
     "text": [
      "Requirement already satisfied: cassandra-driver in c:\\users\\hp\\anaconda3\\lib\\site-packages (3.25.0)\n",
      "Requirement already satisfied: six>=1.9 in c:\\users\\hp\\anaconda3\\lib\\site-packages (from cassandra-driver) (1.16.0)\n",
      "Requirement already satisfied: geomet<0.3,>=0.1 in c:\\users\\hp\\anaconda3\\lib\\site-packages (from cassandra-driver) (0.2.1.post1)\n",
      "Requirement already satisfied: click in c:\\users\\hp\\anaconda3\\lib\\site-packages (from geomet<0.3,>=0.1->cassandra-driver) (8.0.3)\n",
      "Requirement already satisfied: colorama in c:\\users\\hp\\anaconda3\\lib\\site-packages (from click->geomet<0.3,>=0.1->cassandra-driver) (0.4.4)\n"
     ]
    }
   ],
   "source": [
    "!pip install cassandra-driver"
   ]
  },
  {
   "cell_type": "code",
   "execution_count": 18,
   "id": "4d7d1c3f",
   "metadata": {},
   "outputs": [
    {
     "data": {
      "text/plain": [
       "<function database_connect.__cassandra_utils.cassandra_crud.cassandra_operations.read_data(self, table_name=None)>"
      ]
     },
     "execution_count": 18,
     "metadata": {},
     "output_type": "execute_result"
    }
   ],
   "source": [
    "read_file"
   ]
  },
  {
   "cell_type": "code",
   "execution_count": null,
   "id": "b7a3cdf9",
   "metadata": {},
   "outputs": [],
   "source": []
  },
  {
   "cell_type": "code",
   "execution_count": null,
   "id": "8a5cde45",
   "metadata": {},
   "outputs": [],
   "source": []
  }
 ],
 "metadata": {
  "kernelspec": {
   "display_name": "Python 3 (ipykernel)",
   "language": "python",
   "name": "python3"
  },
  "language_info": {
   "codemirror_mode": {
    "name": "ipython",
    "version": 3
   },
   "file_extension": ".py",
   "mimetype": "text/x-python",
   "name": "python",
   "nbconvert_exporter": "python",
   "pygments_lexer": "ipython3",
   "version": "3.9.7"
  }
 },
 "nbformat": 4,
 "nbformat_minor": 5
}
